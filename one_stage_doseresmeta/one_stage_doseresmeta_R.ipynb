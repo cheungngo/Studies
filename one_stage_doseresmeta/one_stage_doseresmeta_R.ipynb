{
  "nbformat": 4,
  "nbformat_minor": 0,
  "metadata": {
    "colab": {
      "name": "one_stage_doseresmeta_R.ipynb",
      "provenance": [],
      "collapsed_sections": [],
      "authorship_tag": "ABX9TyPH9xdPsEbX09d0knotUWyH",
      "include_colab_link": true
    },
    "kernelspec": {
      "name": "ir",
      "display_name": "R"
    },
    "language_info": {
      "name": "R"
    }
  },
  "cells": [
    {
      "cell_type": "markdown",
      "metadata": {
        "id": "view-in-github",
        "colab_type": "text"
      },
      "source": [
        "<a href=\"https://colab.research.google.com/github/cheungngo/Studies/blob/main/one_stage_doseresmeta/one_stage_doseresmeta_R.ipynb\" target=\"_parent\"><img src=\"https://colab.research.google.com/assets/colab-badge.svg\" alt=\"Open In Colab\"/></a>"
      ]
    },
    {
      "cell_type": "markdown",
      "source": [
        "# One-stage doseresmeta"
      ],
      "metadata": {
        "id": "F60athvr9Z8C"
      }
    },
    {
      "cell_type": "markdown",
      "source": [
        "## Installing and loading packages"
      ],
      "metadata": {
        "id": "-pMsp9C41tZ4"
      }
    },
    {
      "cell_type": "code",
      "execution_count": null,
      "metadata": {
        "colab": {
          "base_uri": "https://localhost:8080/"
        },
        "id": "LpbC80w-1Sy0",
        "outputId": "537b77d8-527f-4d99-cecb-7f8e22453d9b"
      },
      "outputs": [
        {
          "output_type": "stream",
          "name": "stderr",
          "text": [
            "Loading required package: usethis\n",
            "\n"
          ]
        }
      ],
      "source": [
        "library(devtools)"
      ]
    },
    {
      "cell_type": "code",
      "source": [
        "devtools::install_github(\"alecri/dosresmeta\")"
      ],
      "metadata": {
        "colab": {
          "base_uri": "https://localhost:8080/"
        },
        "id": "9QkQ8szk1Y3I",
        "outputId": "9dd5a480-f415-4b44-d25b-c6be9711d317"
      },
      "execution_count": null,
      "outputs": [
        {
          "output_type": "stream",
          "name": "stderr",
          "text": [
            "Downloading GitHub repo alecri/dosresmeta@HEAD\n",
            "\n"
          ]
        },
        {
          "output_type": "stream",
          "name": "stdout",
          "text": [
            "mixmeta (NA -> 1.2.0) [CRAN]\n"
          ]
        },
        {
          "output_type": "stream",
          "name": "stderr",
          "text": [
            "Installing 1 packages: mixmeta\n",
            "\n",
            "Installing package into ‘/usr/local/lib/R/site-library’\n",
            "(as ‘lib’ is unspecified)\n",
            "\n"
          ]
        },
        {
          "output_type": "stream",
          "name": "stdout",
          "text": [
            "* checking for file ‘/tmp/RtmpnDCGXe/remotes482cf1ccd4/alecri-dosresmeta-dcc47a9/DESCRIPTION’ ... OK\n",
            "* preparing ‘dosresmeta’:\n",
            "* checking DESCRIPTION meta-information ... OK\n",
            "* checking for LF line-endings in source and make files and shell scripts\n",
            "* checking for empty or unneeded directories\n",
            "* looking to see if a ‘data/datalist’ file should be added\n",
            "* building ‘dosresmeta_2.1.1.tar.gz’\n",
            "\n"
          ]
        },
        {
          "output_type": "stream",
          "name": "stderr",
          "text": [
            "Installing package into ‘/usr/local/lib/R/site-library’\n",
            "(as ‘lib’ is unspecified)\n",
            "\n"
          ]
        }
      ]
    },
    {
      "cell_type": "code",
      "source": [
        "install.packages(\"lmtest\")"
      ],
      "metadata": {
        "colab": {
          "base_uri": "https://localhost:8080/"
        },
        "id": "G9xHH59h18M4",
        "outputId": "cb6cd8e8-829c-4584-eeb1-5b1d9a23fa4d"
      },
      "execution_count": null,
      "outputs": [
        {
          "output_type": "stream",
          "name": "stderr",
          "text": [
            "Installing package into ‘/usr/local/lib/R/site-library’\n",
            "(as ‘lib’ is unspecified)\n",
            "\n"
          ]
        }
      ]
    },
    {
      "cell_type": "code",
      "source": [
        "install.packages(\"rms\")"
      ],
      "metadata": {
        "colab": {
          "base_uri": "https://localhost:8080/"
        },
        "id": "QiyHPQeK835R",
        "outputId": "5bd10e7e-379a-48f6-845d-500010e367fe"
      },
      "execution_count": null,
      "outputs": [
        {
          "output_type": "stream",
          "name": "stderr",
          "text": [
            "Installing package into ‘/usr/local/lib/R/site-library’\n",
            "(as ‘lib’ is unspecified)\n",
            "\n"
          ]
        }
      ]
    },
    {
      "cell_type": "code",
      "source": [
        "library(tidyverse)\n",
        "library(dosresmeta)\n",
        "library(lmtest)\n",
        "library(gridExtra)\n",
        "library(readxl)\n",
        "library(knitr)\n",
        "library(rms)\n",
        "theme_set(theme_minimal())"
      ],
      "metadata": {
        "colab": {
          "base_uri": "https://localhost:8080/"
        },
        "id": "p561rC1o1yNO",
        "outputId": "48115583-8141-40f7-f15e-b9b06f246222"
      },
      "execution_count": null,
      "outputs": [
        {
          "output_type": "stream",
          "name": "stderr",
          "text": [
            "Loading required package: Hmisc\n",
            "\n",
            "Loading required package: lattice\n",
            "\n",
            "Loading required package: survival\n",
            "\n",
            "Loading required package: Formula\n",
            "\n",
            "\n",
            "Attaching package: ‘Hmisc’\n",
            "\n",
            "\n",
            "The following objects are masked from ‘package:dplyr’:\n",
            "\n",
            "    src, summarize\n",
            "\n",
            "\n",
            "The following objects are masked from ‘package:base’:\n",
            "\n",
            "    format.pval, units\n",
            "\n",
            "\n",
            "Loading required package: SparseM\n",
            "\n",
            "\n",
            "Attaching package: ‘SparseM’\n",
            "\n",
            "\n",
            "The following object is masked from ‘package:base’:\n",
            "\n",
            "    backsolve\n",
            "\n",
            "\n",
            "\n",
            "Attaching package: ‘rms’\n",
            "\n",
            "\n",
            "The following object is masked from ‘package:lmtest’:\n",
            "\n",
            "    lrtest\n",
            "\n",
            "\n"
          ]
        }
      ]
    },
    {
      "cell_type": "markdown",
      "source": [
        "## Fictitious data example"
      ],
      "metadata": {
        "id": "VwBJSxuV2t0G"
      }
    },
    {
      "cell_type": "code",
      "source": [
        "# true beta coefficients generating the simulated data 'sim_os'\n",
        "bi <- structure(c(-3.02773781522055, -2.71360284216677, -2.81718024023898, \n",
        "                  -2.98525410370846, -3.07807174460969, -3.08090019565107, -2.76123148090383, \n",
        "                  -2.90138487974716, -3.23406524104945, -0.35, -0.246168150617906, \n",
        "                  -0.230850306644441, -0.35, -0.274625537367731, -0.267349209860969, \n",
        "                  -0.35, -0.233102337406713, -0.252156341820433, 0.025, 0.0259126663907604, \n",
        "                  0.0244049682211859, 0.025, 0.032217031434239, 0.0343394212681985, \n",
        "                  0.025, 0.0300706894228835, 0.0300235286430353), dim = c(9L, 3L),\n",
        "                dimnames = list(1:9, paste(\"beta\", 0:2)))\n",
        "apply(bi, 2, mean)[-1]\n",
        "apply(bi, 2, sd)[-1]\n",
        "kable(bi) # a table generator from \"knitr\""
      ],
      "metadata": {
        "colab": {
          "base_uri": "https://localhost:8080/",
          "height": 277
        },
        "id": "ptzi50Y52rWX",
        "outputId": "2078ede8-5dcb-4ffe-98ff-d1254e94e04b"
      },
      "execution_count": null,
      "outputs": [
        {
          "output_type": "display_data",
          "data": {
            "text/plain": [
              "     beta 1      beta 2 \n",
              "-0.28380576  0.02799648 "
            ],
            "text/latex": "\\begin{description*}\n\\item[beta 1] -0.283805764857577\n\\item[beta 2] 0.0279964783755892\n\\end{description*}\n",
            "text/markdown": "beta 1\n:   -0.283805764857577beta 2\n:   0.0279964783755892\n\n",
            "text/html": [
              "<style>\n",
              ".dl-inline {width: auto; margin:0; padding: 0}\n",
              ".dl-inline>dt, .dl-inline>dd {float: none; width: auto; display: inline-block}\n",
              ".dl-inline>dt::after {content: \":\\0020\"; padding-right: .5ex}\n",
              ".dl-inline>dt:not(:first-of-type) {padding-left: .5ex}\n",
              "</style><dl class=dl-inline><dt>beta 1</dt><dd>-0.283805764857577</dd><dt>beta 2</dt><dd>0.0279964783755892</dd></dl>\n"
            ]
          },
          "metadata": {}
        },
        {
          "output_type": "display_data",
          "data": {
            "text/plain": [
              "     beta 1      beta 2 \n",
              "0.051591568 0.003718789 "
            ],
            "text/latex": "\\begin{description*}\n\\item[beta 1] 0.0515915680749523\n\\item[beta 2] 0.00371878915876309\n\\end{description*}\n",
            "text/markdown": "beta 1\n:   0.0515915680749523beta 2\n:   0.00371878915876309\n\n",
            "text/html": [
              "<style>\n",
              ".dl-inline {width: auto; margin:0; padding: 0}\n",
              ".dl-inline>dt, .dl-inline>dd {float: none; width: auto; display: inline-block}\n",
              ".dl-inline>dt::after {content: \":\\0020\"; padding-right: .5ex}\n",
              ".dl-inline>dt:not(:first-of-type) {padding-left: .5ex}\n",
              "</style><dl class=dl-inline><dt>beta 1</dt><dd>0.0515915680749523</dd><dt>beta 2</dt><dd>0.00371878915876309</dd></dl>\n"
            ]
          },
          "metadata": {}
        },
        {
          "output_type": "display_data",
          "data": {
            "text/plain": [
              "\n",
              "\n",
              "|    beta 0|     beta 1|    beta 2|\n",
              "|---------:|----------:|---------:|\n",
              "| -3.027738| -0.3500000| 0.0250000|\n",
              "| -2.713603| -0.2461682| 0.0259127|\n",
              "| -2.817180| -0.2308503| 0.0244050|\n",
              "| -2.985254| -0.3500000| 0.0250000|\n",
              "| -3.078072| -0.2746255| 0.0322170|\n",
              "| -3.080900| -0.2673492| 0.0343394|\n",
              "| -2.761232| -0.3500000| 0.0250000|\n",
              "| -2.901385| -0.2331023| 0.0300707|\n",
              "| -3.234065| -0.2521563| 0.0300235|"
            ]
          },
          "metadata": {}
        }
      ]
    },
    {
      "cell_type": "code",
      "source": [
        "# load simulated data (Table 2)\n",
        "data(\"sim_os\") # from \"dosresmeta\"\n",
        "kable(sim_os, digits = 2)"
      ],
      "metadata": {
        "colab": {
          "base_uri": "https://localhost:8080/",
          "height": 555
        },
        "id": "_ivtD9oL3GiZ",
        "outputId": "021bb370-caaa-404f-cd88-a3e3d8ea8fd4"
      },
      "execution_count": null,
      "outputs": [
        {
          "output_type": "display_data",
          "data": {
            "text/plain": [
              "\n",
              "\n",
              "|xcati          | id|type | dose| cases|    n|   rr|  lrr|  urr| logrr|   se|\n",
              "|:--------------|--:|:----|----:|-----:|----:|----:|----:|----:|-----:|----:|\n",
              "|[-0.00336,3.5) |  1|cc   | 2.43|    42| 2260| 1.00| 1.00| 1.00|  0.00| 0.00|\n",
              "|[3.5,7.01]     |  1|cc   | 5.21|   102| 6136| 0.89| 0.62| 1.28| -0.11| 0.19|\n",
              "|[-2.39,2.73)   |  2|cc   | 1.70|    39|  651| 1.00| 1.00| 1.00|  0.00| 0.00|\n",
              "|[2.73,7.83)    |  2|cc   | 5.14|   164| 3962| 0.68| 0.47| 0.97| -0.39| 0.18|\n",
              "|[7.83,12.9]    |  2|cc   | 8.78|    26|  387| 1.13| 0.68| 1.89|  0.12| 0.26|\n",
              "|[-2.14,1.64)   |  3|cc   | 0.78|    11|  224| 1.00| 1.00| 1.00|  0.00| 0.00|\n",
              "|[1.64,5.41)    |  3|cc   | 3.89|    99| 2639| 0.75| 0.40| 1.43| -0.28| 0.33|\n",
              "|[5.41,9.17)    |  3|cc   | 6.71|    80| 2031| 0.79| 0.42| 1.51| -0.23| 0.33|\n",
              "|[9.17,12.9]    |  3|cc   | 9.82|    10|  106| 2.02| 0.83| 4.91|  0.70| 0.45|\n",
              "|[2,5)          |  4|cc   | 3.75|    89| 4306| 1.00| 1.00| 1.00|  0.00| 0.00|\n",
              "|[5,8.01]       |  4|cc   | 6.24|    62| 4316| 0.69| 0.50| 0.96| -0.37| 0.17|\n",
              "|[-1.46,3.06)   |  5|cc   | 2.01|    22|  849| 1.00| 1.00| 1.00|  0.00| 0.00|\n",
              "|[3.06,7.56)    |  5|cc   | 5.19|    97| 3638| 1.03| 0.64| 1.65|  0.03| 0.24|\n",
              "|[7.56,12.1]    |  5|cc   | 8.60|    23|  513| 1.76| 0.97| 3.20|  0.57| 0.30|\n",
              "|[-3.13,0.877)  |  6|cc   | 0.08|     7|  112| 1.00| 1.00| 1.00|  0.00| 0.00|\n",
              "|[0.877,4.87)   |  6|cc   | 3.48|    61| 2229| 0.42| 0.19| 0.95| -0.86| 0.41|\n",
              "|[4.87,8.86)    |  6|cc   | 6.37|    83| 2515| 0.51| 0.23| 1.13| -0.67| 0.41|\n",
              "|[8.86,12.9]    |  6|cc   | 9.65|    10|  144| 1.12| 0.41| 3.04|  0.11| 0.51|\n",
              "|[0.994,4.5)    |  7|cc   | 3.23|   117| 3807| 1.00| 1.00| 1.00|  0.00| 0.00|\n",
              "|[4.5,8]        |  7|cc   | 5.97|   105| 5295| 0.64| 0.49| 0.83| -0.45| 0.14|\n",
              "|[-2.21,2.31)   |  8|cc   | 1.49|    14|  442| 1.00| 1.00| 1.00|  0.00| 0.00|\n",
              "|[2.31,6.82)    |  8|cc   | 4.71|   139| 3667| 1.20| 0.69| 2.11|  0.19| 0.29|\n",
              "|[6.82,11.3]    |  8|cc   | 7.87|    56|  891| 2.05| 1.13| 3.73|  0.72| 0.30|\n",
              "|[-2.91,0.8)    |  9|cc   | 0.03|     5|   87| 1.00| 1.00| 1.00|  0.00| 0.00|\n",
              "|[0.8,4.5)      |  9|cc   | 3.20|    44| 1943| 0.38| 0.15| 0.98| -0.97| 0.49|\n",
              "|[4.5,8.2)      |  9|cc   | 6.03|    74| 2697| 0.46| 0.18| 1.17| -0.77| 0.48|\n",
              "|[8.2,11.9]     |  9|cc   | 9.00|    10|  273| 0.62| 0.21| 1.88| -0.47| 0.56|"
            ]
          },
          "metadata": {}
        }
      ]
    },
    {
      "cell_type": "markdown",
      "source": [
        "_\bD_\be_\bs_\bc_\br_\bi_\bp_\bt_\bi_\bo_\bn:\n",
        "\n",
        "     The dataset contains simulated data from 9 case-control studies.\n",
        "\n",
        "_\bF_\bo_\br_\bm_\ba_\bt:\n",
        "\n",
        "     A data frame with 27 observations on the following 11 variables:\n",
        "\n",
        "       ‘xcati’  category limits for the continuous exposure.                          \n",
        "       ‘id’     id of the studies.                                                    \n",
        "       ‘type’   code for study design.                                                \n",
        "       ‘dose’   assigned dose levels.                                                 \n",
        "       ‘cases’  number of cases for each exposure level.                              \n",
        "       ‘n’      total number of subjects for each exposure level.                     \n",
        "       ‘rr’     adjusted risk estimates for each exposure level.                      \n",
        "       ‘lrr’    lower bound for the confidence limits of the adjusted risk estimates. \n",
        "       ‘urr’    upper bound for the confidence limits of the adjusted risk estimates. \n",
        "       ‘logrr’  natural logarithm of the adjusted risk estimates.                     \n",
        "       ‘se’     standard error for the logarithm of the adjusted risk estimates.      "
      ],
      "metadata": {
        "id": "T7LhcxPa3VeG"
      }
    },
    {
      "cell_type": "code",
      "source": [
        "# number of non-referent log rr\n",
        "group_by(sim_os, id) %>% \n",
        "  summarise(n_nonref = sum(se != 0))"
      ],
      "metadata": {
        "colab": {
          "base_uri": "https://localhost:8080/",
          "height": 380
        },
        "id": "qkb3DnaD4FCB",
        "outputId": "7383aafb-65d6-4407-8b9f-70780b429b81"
      },
      "execution_count": null,
      "outputs": [
        {
          "output_type": "display_data",
          "data": {
            "text/plain": [
              "  id n_nonref\n",
              "1 1  1       \n",
              "2 2  2       \n",
              "3 3  3       \n",
              "4 4  1       \n",
              "5 5  2       \n",
              "6 6  3       \n",
              "7 7  1       \n",
              "8 8  2       \n",
              "9 9  3       "
            ],
            "text/latex": "A tibble: 9 × 2\n\\begin{tabular}{ll}\n id & n\\_nonref\\\\\n <int> & <int>\\\\\n\\hline\n\t 1 & 1\\\\\n\t 2 & 2\\\\\n\t 3 & 3\\\\\n\t 4 & 1\\\\\n\t 5 & 2\\\\\n\t 6 & 3\\\\\n\t 7 & 1\\\\\n\t 8 & 2\\\\\n\t 9 & 3\\\\\n\\end{tabular}\n",
            "text/markdown": "\nA tibble: 9 × 2\n\n| id &lt;int&gt; | n_nonref &lt;int&gt; |\n|---|---|\n| 1 | 1 |\n| 2 | 2 |\n| 3 | 3 |\n| 4 | 1 |\n| 5 | 2 |\n| 6 | 3 |\n| 7 | 1 |\n| 8 | 2 |\n| 9 | 3 |\n\n",
            "text/html": [
              "<table class=\"dataframe\">\n",
              "<caption>A tibble: 9 × 2</caption>\n",
              "<thead>\n",
              "\t<tr><th scope=col>id</th><th scope=col>n_nonref</th></tr>\n",
              "\t<tr><th scope=col>&lt;int&gt;</th><th scope=col>&lt;int&gt;</th></tr>\n",
              "</thead>\n",
              "<tbody>\n",
              "\t<tr><td>1</td><td>1</td></tr>\n",
              "\t<tr><td>2</td><td>2</td></tr>\n",
              "\t<tr><td>3</td><td>3</td></tr>\n",
              "\t<tr><td>4</td><td>1</td></tr>\n",
              "\t<tr><td>5</td><td>2</td></tr>\n",
              "\t<tr><td>6</td><td>3</td></tr>\n",
              "\t<tr><td>7</td><td>1</td></tr>\n",
              "\t<tr><td>8</td><td>2</td></tr>\n",
              "\t<tr><td>9</td><td>3</td></tr>\n",
              "</tbody>\n",
              "</table>\n"
            ]
          },
          "metadata": {}
        }
      ]
    },
    {
      "cell_type": "markdown",
      "source": [
        "### Estimation: one-stage vs two-stage"
      ],
      "metadata": {
        "id": "4tosdGHV46qA"
      }
    },
    {
      "cell_type": "code",
      "source": [
        "# 1 stage\n",
        "\n",
        "mod_os <- dosresmeta(logrr ~ dose + I(dose^2), id = id, cases = cases, n = n, type = type,\n",
        "                     se = se, data = sim_os, proc = \"1stage\")\n",
        "summary(mod_os)"
      ],
      "metadata": {
        "colab": {
          "base_uri": "https://localhost:8080/",
          "height": 468
        },
        "id": "stu7Zqr-44MI",
        "outputId": "a3307618-f236-40ff-8a87-c6c347efe613"
      },
      "execution_count": null,
      "outputs": [
        {
          "output_type": "stream",
          "name": "stderr",
          "text": [
            "Warning message in dosresmeta.fit(X[v != 0, , drop = FALSE], Z[v != 0, , drop = FALSE], :\n",
            "“convergence not reached after maximum number of iterations”\n"
          ]
        },
        {
          "output_type": "display_data",
          "data": {
            "text/plain": [
              "Call:  dosresmeta(formula = logrr ~ dose + I(dose^2), id = id, type = type, \n",
              "    cases = cases, n = n, data = sim_os, se = se, proc = \"1stage\")\n",
              "\n",
              "One-stage random-effects meta-analysis\n",
              "Estimation method: REML\n",
              "Covariance approximation: Greenland & Longnecker\n",
              "\n",
              "Chi2 model: X2 = 36.6043 (df = 2), p-value = 0.0000\n",
              "\n",
              "Fixed-effects coefficients\n",
              "           Estimate  Std. Error        z  Pr(>|z|)  95%ci.lb  95%ci.ub     \n",
              "dose        -0.3294      0.0737  -4.4676    0.0000   -0.4739   -0.1849  ***\n",
              "I(dose^2)    0.0341      0.0061   5.6168    0.0000    0.0222    0.0460  ***\n",
              "---\n",
              "Signif. codes:  0 ‘***’ 0.001 ‘**’ 0.01 ‘*’ 0.05 ‘.’ 0.1 ‘ ’ 1 \n",
              "\n",
              "Between-study random-effects (co)variance components\n",
              "           Std. Dev  Corr\n",
              "dose         0.1316  dose\n",
              "I(dose^2)    0.0064    -1\n",
              "\n",
              "9 studies, 18 values, 2 fixed and 3 random-effects parameters\n",
              " logLik      AIC      BIC  \n",
              "-8.6754  27.3508  31.2137  \n"
            ]
          },
          "metadata": {}
        }
      ]
    },
    {
      "cell_type": "code",
      "source": [
        "# 2 stage\n",
        "\n",
        "id_ts <- names(which(table(sim_os$id) > 2))\n",
        "mod_ts <- dosresmeta(logrr ~ dose + I(dose^2), id = id, cases = cases, n = n, type = type,\n",
        "                     se = se, data = subset(sim_os, id %in% id_ts), proc = \"2stage\")\n",
        "summary(mod_ts)"
      ],
      "metadata": {
        "colab": {
          "base_uri": "https://localhost:8080/",
          "height": 520
        },
        "id": "cYKx_w5m5Ekv",
        "outputId": "108ec0ae-1d7c-4fab-a54d-c4ddffe0a468"
      },
      "execution_count": null,
      "outputs": [
        {
          "output_type": "display_data",
          "data": {
            "text/plain": [
              "Call:  dosresmeta(formula = logrr ~ dose + I(dose^2), id = id, type = type, \n",
              "    cases = cases, n = n, data = subset(sim_os, id %in% id_ts), \n",
              "    se = se, proc = \"2stage\")\n",
              "\n",
              "Two-stage random-effects meta-analysis\n",
              "Estimation method: REML\n",
              "Covariance approximation: Greenland & Longnecker\n",
              "\n",
              "Chi2 model: X2 = 41.8719 (df = 2), p-value = 0.0000\n",
              "\n",
              "Fixed-effects coefficients\n",
              "           Estimate  Std. Error        z  Pr(>|z|)  95%ci.lb  95%ci.ub     \n",
              "dose        -0.2771      0.0622  -4.4575    0.0000   -0.3989   -0.1553  ***\n",
              "I(dose^2)    0.0322      0.0058   5.5723    0.0000    0.0209    0.0435  ***\n",
              "---\n",
              "Signif. codes:  0 ‘***’ 0.001 ‘**’ 0.01 ‘*’ 0.05 ‘.’ 0.1 ‘ ’ 1 \n",
              "\n",
              "Between-study random-effects (co)variance components\n",
              "           Std. Dev  Corr\n",
              "dose         0.0228  dose\n",
              "I(dose^2)    0.0012    -1\n",
              "\n",
              "Univariate Cochran Q-test for residual heterogeneity:\n",
              "Q = 6.0453 (df = 10), p-value = 0.8114\n",
              "I-square statistic = 0.0%\n",
              "\n",
              "6 studies, 12 values, 2 fixed and 3 random-effects parameters\n",
              "  logLik       AIC       BIC  \n",
              " 24.9264  -39.8528  -38.3399  \n"
            ]
          },
          "metadata": {}
        }
      ]
    },
    {
      "cell_type": "code",
      "source": [
        "# It should be noted that only study with >2 categories are included in two step\n",
        "table(sim_os$id)"
      ],
      "metadata": {
        "colab": {
          "base_uri": "https://localhost:8080/",
          "height": 69
        },
        "id": "LAdjEW1h5QIf",
        "outputId": "fb85fa7c-2227-4a3f-fef8-980449ce7c6a"
      },
      "execution_count": null,
      "outputs": [
        {
          "output_type": "display_data",
          "data": {
            "text/plain": [
              "\n",
              "1 2 3 4 5 6 7 8 9 \n",
              "2 3 4 2 3 4 2 3 4 "
            ]
          },
          "metadata": {}
        }
      ]
    },
    {
      "cell_type": "code",
      "source": [
        "# comparison coefficients\n",
        "data.frame(one_stage = mod_os$coefficients, two_stage = c(mod_ts$coefficients)) %>% \n",
        "  kable(digits = 3)"
      ],
      "metadata": {
        "colab": {
          "base_uri": "https://localhost:8080/",
          "height": 121
        },
        "id": "fpNXdu646ZXp",
        "outputId": "467dfc7c-b3d0-4d60-d7ed-3308c6418b27"
      },
      "execution_count": null,
      "outputs": [
        {
          "output_type": "display_data",
          "data": {
            "text/plain": [
              "\n",
              "\n",
              "|          | one_stage| two_stage|\n",
              "|:---------|---------:|---------:|\n",
              "|dose      |    -0.329|    -0.277|\n",
              "|I(dose^2) |     0.034|     0.032|"
            ]
          },
          "metadata": {}
        }
      ]
    },
    {
      "cell_type": "code",
      "source": [
        "# comparison standard errors\n",
        "data.frame(one_stage = mod_os$vcov[c(1, 4)]^.5, two_stage = mod_ts$vcov[c(1, 4)]^.5) %>% \n",
        "  kable(digits = 3)"
      ],
      "metadata": {
        "colab": {
          "base_uri": "https://localhost:8080/",
          "height": 121
        },
        "id": "bta3OOp-6hYh",
        "outputId": "bb8c3eab-043d-4083-e4cc-6e7a82eed72f"
      },
      "execution_count": null,
      "outputs": [
        {
          "output_type": "display_data",
          "data": {
            "text/plain": [
              "\n",
              "\n",
              "| one_stage| two_stage|\n",
              "|---------:|---------:|\n",
              "|     0.074|     0.062|\n",
              "|     0.006|     0.006|"
            ]
          },
          "metadata": {}
        }
      ]
    },
    {
      "cell_type": "code",
      "source": [
        "# comparison variance components\n",
        "data.frame(one_stage = mod_os$Psi[-2], two_stage = mod_ts$Psi[-2])"
      ],
      "metadata": {
        "colab": {
          "base_uri": "https://localhost:8080/",
          "height": 192
        },
        "id": "xttDf1097AN7",
        "outputId": "2efafd5d-d424-4e12-f37c-67d079391820"
      },
      "execution_count": null,
      "outputs": [
        {
          "output_type": "display_data",
          "data": {
            "text/plain": [
              "  one_stage     two_stage    \n",
              "1  0.0173082587  5.220313e-04\n",
              "2 -0.0008479796 -2.811876e-05\n",
              "3  0.0000415454  1.514592e-06"
            ],
            "text/latex": "A data.frame: 3 × 2\n\\begin{tabular}{ll}\n one\\_stage & two\\_stage\\\\\n <dbl> & <dbl>\\\\\n\\hline\n\t  0.0173082587 &  5.220313e-04\\\\\n\t -0.0008479796 & -2.811876e-05\\\\\n\t  0.0000415454 &  1.514592e-06\\\\\n\\end{tabular}\n",
            "text/markdown": "\nA data.frame: 3 × 2\n\n| one_stage &lt;dbl&gt; | two_stage &lt;dbl&gt; |\n|---|---|\n|  0.0173082587 |  5.220313e-04 |\n| -0.0008479796 | -2.811876e-05 |\n|  0.0000415454 |  1.514592e-06 |\n\n",
            "text/html": [
              "<table class=\"dataframe\">\n",
              "<caption>A data.frame: 3 × 2</caption>\n",
              "<thead>\n",
              "\t<tr><th scope=col>one_stage</th><th scope=col>two_stage</th></tr>\n",
              "\t<tr><th scope=col>&lt;dbl&gt;</th><th scope=col>&lt;dbl&gt;</th></tr>\n",
              "</thead>\n",
              "<tbody>\n",
              "\t<tr><td> 0.0173082587</td><td> 5.220313e-04</td></tr>\n",
              "\t<tr><td>-0.0008479796</td><td>-2.811876e-05</td></tr>\n",
              "\t<tr><td> 0.0000415454</td><td> 1.514592e-06</td></tr>\n",
              "</tbody>\n",
              "</table>\n"
            ]
          },
          "metadata": {}
        }
      ]
    },
    {
      "cell_type": "code",
      "source": [
        "# graphical comparison using 1.5 as referent (Figure 2)\n",
        "xref <- 1.5 # the reference for computing the RR / OR\n",
        "newd <- data.frame(dose = c(xref, seq(0, max(sim_os$dose), length.out = 50)))\n",
        "pred_os <- predict(mod_os, newd, xref = xref, expo = T)\n",
        "pred_ts <- predict(mod_ts, newd, xref = xref, expo = T)\n",
        "pred_true <- tibble(\n",
        "  dose = newd$dose,\n",
        "  pred = c(exp(cbind(dose - xref, dose^2- xref^2) %*% c(-0.27, 0.027)))\n",
        "  )"
      ],
      "metadata": {
        "id": "4RUXFg7k7Kyo"
      },
      "execution_count": null,
      "outputs": []
    },
    {
      "cell_type": "code",
      "source": [
        "ggplot(pred_ts, aes(dose, y = pred)) + \n",
        "  geom_line(aes(linetype = \"Two-stage\")) + \n",
        "  geom_line(data = pred_os, aes(linetype = \"One-stage\")) + \n",
        "  geom_line(data = pred_true, aes(linetype = \"True\")) + \n",
        "  scale_y_continuous(trans = \"log\", breaks = c(.7, 1, 1.7, 2.5)) +\n",
        "  labs(y = \"Odds ratio\", x = \"Dose\", linetype = \"Curve\") +\n",
        "  scale_linetype_manual(values = c(`Two-stage` = \"dotted\", `One-stage` = \"dashed\", True = \"solid\"))"
      ],
      "metadata": {
        "colab": {
          "base_uri": "https://localhost:8080/",
          "height": 437
        },
        "id": "UePoRfbV7N1S",
        "outputId": "6169dd5f-3a4a-4755-bbf8-7411d1f352bc"
      },
      "execution_count": null,
      "outputs": [
        {
          "output_type": "display_data",
          "data": {
            "image/png": "[encoded data removed]",
            "text/plain": [
              "plot without title"
            ]
          },
          "metadata": {
            "image/png": {
              "width": 420,
              "height": 420
            }
          }
        }
      ]
    },
    {
      "cell_type": "code",
      "source": [
        "# individual curves (Table 3)\n",
        "bi_blup <- t(apply(blup(mod_os), 1, function(x) x + rbind(coef(mod_os))))\n",
        "bi_ts <- t(apply(blup(mod_ts), 1, function(x) x + rbind(coef(mod_ts)))) %>% \n",
        "  as.data.frame() %>% cbind(id = id_ts)\n",
        "bi_comp <- data.frame(id = seq_along(unique(sim_os$id)),\n",
        "                      xi_ref = sim_os$dose[sim_os$se == 0],\n",
        "                      true = bi[, -1], blup = bi_blup) %>%\n",
        "  merge(bi_ts, all = TRUE)\n",
        "colnames(bi_comp)[-2] <- c(\"ID\", paste0(rep(c(\"true\", \"os\", \"ts\"), each = 2), c(\".b1\", \".b2\")))\n",
        "kable(bi_comp)"
      ],
      "metadata": {
        "colab": {
          "base_uri": "https://localhost:8080/",
          "height": 243
        },
        "id": "yJCIv72I79uB",
        "outputId": "983071b8-a876-470f-a733-ce0d261124f5"
      },
      "execution_count": null,
      "outputs": [
        {
          "output_type": "display_data",
          "data": {
            "text/plain": [
              "\n",
              "\n",
              "| ID|    xi_ref|    true.b1|   true.b2|      os.b1|     os.b2|      ts.b1|     ts.b2|\n",
              "|--:|---------:|----------:|---------:|----------:|---------:|----------:|---------:|\n",
              "|  1| 2.4260811| -0.3500000| 0.0250000| -0.3020774| 0.0327586|         NA|        NA|\n",
              "|  2| 1.7002830| -0.2461682| 0.0259127| -0.3477669| 0.0349970| -0.2850610| 0.0326177|\n",
              "|  3| 0.7772001| -0.2308503| 0.0244050| -0.3003771| 0.0326753| -0.2792174| 0.0323030|\n",
              "|  4| 3.7491986| -0.3500000| 0.0250000| -0.4864290| 0.0417904|         NA|        NA|\n",
              "|  5| 2.0108041| -0.2746255| 0.0322170| -0.2498844| 0.0302015| -0.2741494| 0.0320300|\n",
              "|  6| 0.0759720| -0.2673492| 0.0343394| -0.2893578| 0.0321355| -0.2780751| 0.0322414|\n",
              "|  7| 3.2280345| -0.3500000| 0.0250000| -0.5125295| 0.0430691|         NA|        NA|\n",
              "|  8| 1.4898271| -0.2331023| 0.0300707| -0.1755108| 0.0265578| -0.2675352| 0.0316737|\n",
              "|  9| 0.0293185| -0.2521563| 0.0300235| -0.3008702| 0.0326995| -0.2785178| 0.0322653|"
            ]
          },
          "metadata": {}
        }
      ]
    },
    {
      "cell_type": "code",
      "source": [
        "# auxiliary function for individual predictions\n",
        "pred_sq <- function(coef, x, xref){\n",
        "  y <- do.call(\"cbind\", Map(function(b, r){\n",
        "    exp(cbind(x - r, x^2- r^2) %*% t(b))\n",
        "  }, split(coef, 1:nrow(coef)), split(xref, seq_along(xref))))\n",
        "  colnames(y) <- paste0(\"pred\", 1:ncol(y))\n",
        "  data.frame(y)\n",
        "}\n",
        "predi <- data.frame(\n",
        "  x = newd$dose,\n",
        "  y_true = pred_sq(coef =  bi_comp[, c(\"true.b1\", \"true.b2\")], newd$dose, bi_comp$xi_ref),\n",
        "  y_os = pred_sq(coef =  bi_comp[, c(\"os.b1\", \"os.b2\")], newd$dose, bi_comp$xi_ref),\n",
        "  y_ts = pred_sq(coef =  bi_comp[, c(\"ts.b1\", \"ts.b2\")], newd$dose, bi_comp$xi_ref)\n",
        ") %>% \n",
        "  pivot_longer(\n",
        "    cols = c(\"y_true.pred1\":\"y_ts.pred9\"),\n",
        "    names_to = c(\"pred_type\", \"id\"),\n",
        "    names_pattern = \"y_(.*).pred(.*)\"\n",
        "  ) %>% \n",
        "  mutate(\n",
        "    pred_type = factor(pred_type, levels = c(\"true\", \"os\", \"ts\"), \n",
        "                       labels = c(\"True\", \"One-stage\", \"Two-stage\")),\n",
        "    study_lab = paste(\"Study ID\", id)\n",
        "  ) %>% \n",
        "  merge(sim_os, by = \"id\")"
      ],
      "metadata": {
        "id": "l_VFXaPk8Nkg"
      },
      "execution_count": null,
      "outputs": []
    },
    {
      "cell_type": "code",
      "source": [
        "# Figure 3\n",
        "ggplot(predi, aes(x = dose, y = rr)) + \n",
        "  geom_errorbar(data = select(predi, dose, rr, lrr, urr, study_lab) %>% distinct(),\n",
        "                aes(ymin = lrr, ymax = urr), width = .3) +\n",
        "  geom_line(aes(x = x, y = value, linetype = pred_type)) +\n",
        "  scale_y_continuous(trans = \"log\", breaks = c(.3, .6, 1, 2, 4)) +\n",
        "  facet_wrap(. ~ study_lab, scale = \"free\") +\n",
        "  scale_linetype_manual(values =  c(`True` = \"solid\", `One-stage` = \"dashed\", `Two-stage` = \"dotted\")) +\n",
        "  labs(x = \"Dose\", y = \"Odds Ratio\", linetype = \"Curve\") + \n",
        "  theme_classic()"
      ],
      "metadata": {
        "colab": {
          "base_uri": "https://localhost:8080/",
          "height": 472
        },
        "id": "Qj-znvZK8Prh",
        "outputId": "2fe03e93-b4d7-46c2-ca7e-df4e29b0cf4a"
      },
      "execution_count": null,
      "outputs": [
        {
          "output_type": "stream",
          "name": "stderr",
          "text": [
            "Warning message:\n",
            "“Removed 102 row(s) containing missing values (geom_path).”\n"
          ]
        },
        {
          "output_type": "display_data",
          "data": {
            "image/png": "[encoded data removed]",
            "text/plain": [
              "plot without title"
            ]
          },
          "metadata": {
            "image/png": {
              "width": 420,
              "height": 420
            }
          }
        }
      ]
    },
    {
      "cell_type": "code",
      "source": [
        "# vpc plot(Figure 4)\n",
        "p_vpc <- ggplot(subset(sim_os, se != 0), aes(dose, vpc(mod_os))) +\n",
        "  geom_point() + geom_smooth(method = \"loess\", se = F, col = \"black\") +\n",
        "  labs(y = \"VPC\", x = \"Dose\") + theme_classic()\n",
        "p_vpc"
      ],
      "metadata": {
        "colab": {
          "base_uri": "https://localhost:8080/",
          "height": 472
        },
        "id": "d9FXmP5X8Wy3",
        "outputId": "99f436f7-9f9b-493b-df0b-66917af93028"
      },
      "execution_count": null,
      "outputs": [
        {
          "output_type": "stream",
          "name": "stderr",
          "text": [
            "`geom_smooth()` using formula 'y ~ x'\n",
            "\n"
          ]
        },
        {
          "output_type": "display_data",
          "data": {
            "image/png": "[encoded data removed]",
            "text/plain": [
              "plot without title"
            ]
          },
          "metadata": {
            "image/png": {
              "width": 420,
              "height": 420
            }
          }
        }
      ]
    },
    {
      "cell_type": "code",
      "source": [
        "# Model comparison and goodness-of-fit\n",
        "# more complex models: cubic, spline, fracpol\n",
        "mod_cub <- dosresmeta(logrr ~ dose + I(dose^2) + I(dose^3), id = id, \n",
        "                      cases = cases, n = n, type = type, se = se, data = sim_os, \n",
        "                      proc = \"1stage\", method = \"ml\", \n",
        "                      control = list(maxiter = 1500))\n",
        "k <- quantile(sim_os$dose, c(.05, .2, .5, .8, .95))\n",
        "mod_spl <- dosresmeta(logrr ~ rcs(dose, k), id = id, cases = cases, n = n, \n",
        "                      type = type, se = se, data = sim_os, proc = \"1stage\",\n",
        "                      method = \"ml\", control = list(maxiter = 5000))\n",
        "p <- c(-2, -1, -0.5, 0, 0.5, 1, 2, 3)\n",
        "grid <- subset(expand.grid(p1 = p, p2 = p), p1 <= p2)\n",
        "rownames(grid) <- seq(nrow(grid))\n",
        "shift <- 0\n",
        "scale <- 1\n",
        "modi_pi <- lapply(split(grid, seq(nrow(grid))), function(p)\n",
        "  dosresmeta(logrr ~ fracpol(dose, p = p, shift = shift, scale = scale), id = id,\n",
        "             type = type, se = se, cases = cases, n = n, data = sim_os, \n",
        "             proc = \"1stage\", method = \"ml\"))\n",
        "grid[which.min(lapply(modi_pi, AIC)), ]\n",
        "mod_fracpol <- modi_pi[[which.min(lapply(modi_pi, AIC))]]\n",
        "\n",
        "pred_cub <- predict(mod_cub, newd, xref = xref, expo = T)\n",
        "pred_spl <- predict(mod_spl, newd, xref = xref, expo = T)\n",
        "pred_fracpol <- predict(mod_fracpol, subset(newd, dose >0), expo = T)"
      ],
      "metadata": {
        "id": "TN0FVAo-8f-o"
      },
      "execution_count": null,
      "outputs": []
    },
    {
      "cell_type": "code",
      "source": [
        "# Figure 7\n",
        "ggplot(pred_cub, aes(newd$dose, pred, linetype = \"Cubic\")) + geom_line() +\n",
        "  geom_line(data = pred_spl, aes(linetype = \"Restricted cubic splines\")) +\n",
        "  geom_line(data = pred_fracpol, aes(x = newd$dose[newd$dose>0], linetype = \"Fractional polynomials (0.5, 3)\")) +\n",
        "  scale_y_continuous(trans = \"log\") + labs(x = \"Dose\", y = \"Odds ratio\", linetype = \"Curve\") +\n",
        "  scale_linetype_manual(values = c(Cubic = \"dotted\", `Restricted cubic splines` = \"dashed\", `Fractional polynomials (0.5, 3)` = \"solid\")) +\n",
        "  theme_classic()"
      ],
      "metadata": {
        "colab": {
          "base_uri": "https://localhost:8080/",
          "height": 437
        },
        "id": "wxxenvNR9ItX",
        "outputId": "40ce405a-2d04-4d84-c48b-08f5bfac975f"
      },
      "execution_count": null,
      "outputs": [
        {
          "output_type": "display_data",
          "data": {
            "image/png": "[encoded data removed]",
            "text/plain": [
              "plot without title"
            ]
          },
          "metadata": {
            "image/png": {
              "width": 420,
              "height": 420
            }
          }
        }
      ]
    },
    {
      "cell_type": "code",
      "source": [
        "# comparison AICs\n",
        "data.frame(\"cubic\" = AIC(mod_cub), \"spline\" = AIC(mod_spl), \n",
        "           \"frac pol\" = AIC(mod_fracpol)) %>% \n",
        "  kable(digits = 3)"
      ],
      "metadata": {
        "colab": {
          "base_uri": "https://localhost:8080/",
          "height": 104
        },
        "id": "H4RBK_Tr9MMa",
        "outputId": "5d99aba1-114d-4598-b8a4-1ca3ac2c6f0d"
      },
      "execution_count": null,
      "outputs": [
        {
          "output_type": "display_data",
          "data": {
            "text/plain": [
              "\n",
              "\n",
              "|  cubic| spline| frac.pol|\n",
              "|------:|------:|--------:|\n",
              "| 19.383| 29.205|    13.55|"
            ]
          },
          "metadata": {}
        }
      ]
    },
    {
      "cell_type": "code",
      "source": [
        "# gof plot\n",
        "sq_gof <- gof(mod_os)\n",
        "sq_gof"
      ],
      "metadata": {
        "colab": {
          "base_uri": "https://localhost:8080/",
          "height": 139
        },
        "id": "m8_FY6h79OvX",
        "outputId": "4968716a-f7ff-473d-f068-65345ef4ea60"
      },
      "execution_count": null,
      "outputs": [
        {
          "output_type": "display_data",
          "data": {
            "text/plain": [
              "Goodness-of-fit statistics:\n",
              "\n",
              "Deviance test: \n",
              "D = 27.186 (df = 16), p-value = 0.039\n",
              "\n",
              "Coefficient of determination R-squared: 0.594 \n",
              "Adjusted R-squared: 0.544"
            ]
          },
          "metadata": {}
        }
      ]
    },
    {
      "cell_type": "code",
      "source": [
        "# Figure 8\n",
        "ggplot(subset(sim_os, se != 0), aes(dose, sq_gof$tdata$tresiduals)) + \n",
        "  geom_point() + geom_smooth(method = \"loess\", se = F, col = \"black\") +\n",
        "  geom_hline(yintercept = 0, linetype = \"dotted\") +\n",
        "  scale_y_continuous(lim = c(-4, 4)) +\n",
        "  labs(y = \"Decorrelated residuals\", x = \"Dose\") + theme_classic() +\n",
        "  theme(plot.title = element_text(hjust = 0.5))\n"
      ],
      "metadata": {
        "colab": {
          "base_uri": "https://localhost:8080/",
          "height": 472
        },
        "id": "LiyCo-yn9SNw",
        "outputId": "02ce683a-84d4-4b2c-d114-b6b24929a10c"
      },
      "execution_count": null,
      "outputs": [
        {
          "output_type": "stream",
          "name": "stderr",
          "text": [
            "`geom_smooth()` using formula 'y ~ x'\n",
            "\n"
          ]
        },
        {
          "output_type": "display_data",
          "data": {
            "image/png": "[encoded data removed]",
            "text/plain": [
              "plot without title"
            ]
          },
          "metadata": {
            "image/png": {
              "width": 420,
              "height": 420
            }
          }
        }
      ]
    },
    {
      "cell_type": "markdown",
      "source": [
        "### Example 2: coffee consumption and all-cause mortality"
      ],
      "metadata": {
        "id": "xN6Wfe_X9syi"
      }
    },
    {
      "cell_type": "code",
      "source": [
        "# load data\n",
        "# with the new version of dosresmeta just type `data(\"coffee_mort_add\")`\n",
        "\n",
        "load(url(\"https://github.com/alecri/one-stage-dosresmeta/raw/master/coffee_mort_add.rda\"))"
      ],
      "metadata": {
        "id": "WjXoNS3S9waQ"
      },
      "execution_count": null,
      "outputs": []
    },
    {
      "cell_type": "code",
      "source": [
        "# reconstructing covariances\n",
        "k <- c(0.5, 2.0, 4.5) \n",
        "Slist <- lapply(unique(coffee_mort_add$id), function(i)\n",
        "  with(subset(coffee_mort_add, id == i), {\n",
        "    if (any(is.na(cases) | is.na(n))){\n",
        "      diag(se[se != 0 & !is.na(se)]^2, nrow = sum(se != 0 & !is.na(se)))\n",
        "    }\n",
        "    else {\n",
        "      covar.logrr(y = logrr, v = I(se^2), cases = cases, n = n,\n",
        "                  type = type)\n",
        "    }\n",
        "  }))\n",
        "names(Slist) <- unique(coffee_mort_add$id)"
      ],
      "metadata": {
        "id": "B9IEhO3G90lI"
      },
      "execution_count": null,
      "outputs": []
    },
    {
      "cell_type": "code",
      "source": [
        "# data for plot and prediction\n",
        "newd <- data.frame(dose = seq(0, 8, length.out = 100))\n",
        "newd_tab <- data.frame(dose = c(0, 2, 4))"
      ],
      "metadata": {
        "id": "McNaUlgd93TA"
      },
      "execution_count": null,
      "outputs": []
    },
    {
      "cell_type": "code",
      "source": [
        "# Splines without exclusion\n",
        "spl <- dosresmeta(logrr ~ rcs(dose, k), id = id, type = type,\n",
        "                  cases = cases, n = n, se = se, data = coffee_mort_add, \n",
        "                  covariance = \"user\", Slist = Slist, proc = \"1stage\", method = \"reml\")\n",
        "summary(spl)"
      ],
      "metadata": {
        "colab": {
          "base_uri": "https://localhost:8080/",
          "height": 486
        },
        "id": "RmxgkeRx95hA",
        "outputId": "8efb751a-deb7-4363-fd23-ff894e5c503e"
      },
      "execution_count": null,
      "outputs": [
        {
          "output_type": "display_data",
          "data": {
            "text/plain": [
              "Call:  dosresmeta(formula = logrr ~ rcs(dose, k), id = id, type = type, \n",
              "    cases = cases, n = n, data = coffee_mort_add, se = se, covariance = \"user\", \n",
              "    method = \"reml\", proc = \"1stage\", Slist = Slist)\n",
              "\n",
              "One-stage random-effects meta-analysis\n",
              "Estimation method: REML\n",
              "\n",
              "Chi2 model: X2 = 18.4027 (df = 2), p-value = 0.0001\n",
              "\n",
              "Fixed-effects coefficients\n",
              "                   Estimate  Std. Error        z  Pr(>|z|)  95%ci.lb  95%ci.ub\n",
              "rcs(dose, k)dose    -0.0905      0.0305  -2.9675    0.0030   -0.1503   -0.0307\n",
              "rcs(dose, k)dose'    0.0737      0.0356   2.0699    0.0385    0.0039    0.1434\n",
              "                     \n",
              "rcs(dose, k)dose   **\n",
              "rcs(dose, k)dose'   *\n",
              "---\n",
              "Signif. codes:  0 ‘***’ 0.001 ‘**’ 0.01 ‘*’ 0.05 ‘.’ 0.1 ‘ ’ 1 \n",
              "\n",
              "Between-study random-effects (co)variance components\n",
              "                   Std. Dev              Corr\n",
              "rcs(dose, k)dose     0.0822  rcs(dose, k)dose\n",
              "rcs(dose, k)dose'    0.0956           -0.9875\n",
              "\n",
              "12 studies, 36 values, 2 fixed and 3 random-effects parameters\n",
              "  logLik       AIC       BIC  \n",
              " 17.0711  -24.1422  -16.5104  \n"
            ]
          },
          "metadata": {}
        }
      ]
    },
    {
      "cell_type": "code",
      "source": [
        "# Splines with exclusion\n",
        "spl_exc <- dosresmeta(logrr ~ rcs(dose, k), id = id, type = type, cases = cases, \n",
        "                      n = n, se = se, data = subset(coffee_mort_add, !(id %in% c(28, 29))), method = \"reml\",\n",
        "                      covariance = \"user\", Slist = Slist[!names(Slist) %in% c(\"28\", \"29\")])\n",
        "summary(spl_exc)"
      ],
      "metadata": {
        "colab": {
          "base_uri": "https://localhost:8080/",
          "height": 573
        },
        "id": "f9MMQxNg-AN6",
        "outputId": "d5a1cdd4-17aa-41ae-e2bd-23fb9f32f0af"
      },
      "execution_count": null,
      "outputs": [
        {
          "output_type": "display_data",
          "data": {
            "text/plain": [
              "Call:  dosresmeta(formula = logrr ~ rcs(dose, k), id = id, type = type, \n",
              "    cases = cases, n = n, data = subset(coffee_mort_add, !(id %in% \n",
              "        c(28, 29))), se = se, covariance = \"user\", method = \"reml\", \n",
              "    Slist = Slist[!names(Slist) %in% c(\"28\", \"29\")])\n",
              "\n",
              "Two-stage random-effects meta-analysis\n",
              "Estimation method: REML\n",
              "\n",
              "Chi2 model: X2 = 36.7180 (df = 2), p-value = 0.0000\n",
              "\n",
              "Fixed-effects coefficients\n",
              "                   Estimate  Std. Error        z  Pr(>|z|)  95%ci.lb  95%ci.ub\n",
              "rcs(dose, k)dose    -0.1315      0.0235  -5.5993    0.0000   -0.1776   -0.0855\n",
              "rcs(dose, k)dose'    0.1188      0.0266   4.4733    0.0000    0.0667    0.1709\n",
              "                      \n",
              "rcs(dose, k)dose   ***\n",
              "rcs(dose, k)dose'  ***\n",
              "---\n",
              "Signif. codes:  0 ‘***’ 0.001 ‘**’ 0.01 ‘*’ 0.05 ‘.’ 0.1 ‘ ’ 1 \n",
              "\n",
              "Between-study random-effects (co)variance components\n",
              "                   Std. Dev              Corr\n",
              "rcs(dose, k)dose     0.0326  rcs(dose, k)dose\n",
              "rcs(dose, k)dose'    0.0337           -0.8919\n",
              "\n",
              "Univariate Cochran Q-test for residual heterogeneity:\n",
              "Q = 24.9267 (df = 18), p-value = 0.1269\n",
              "I-square statistic = 27.8%\n",
              "\n",
              "10 studies, 20 values, 2 fixed and 3 random-effects parameters\n",
              "  logLik       AIC       BIC  \n",
              " 24.8419  -39.6839  -35.2320  \n"
            ]
          },
          "metadata": {}
        }
      ]
    },
    {
      "cell_type": "code",
      "source": [
        "# comparison predicted RRS\n",
        "round(predict(spl, newd_tab, expo = T), 2)\n",
        "round(predict(spl_exc, newd_tab, expo = T), 2)"
      ],
      "metadata": {
        "colab": {
          "base_uri": "https://localhost:8080/",
          "height": 367
        },
        "id": "KFHEBE7F-DAD",
        "outputId": "8c3e77f7-9ded-47e4-ac62-357e8dec9698"
      },
      "execution_count": null,
      "outputs": [
        {
          "output_type": "display_data",
          "data": {
            "text/plain": [
              "  rcs(dose, k)dose rcs(dose, k)dose' pred ci.lb ci.ub\n",
              "1 0                0.00              1.00 1.00  1.00 \n",
              "2 2                0.21              0.85 0.76  0.94 \n",
              "3 4                1.88              0.80 0.71  0.90 "
            ],
            "text/latex": "A data.frame: 3 × 5\n\\begin{tabular}{r|lllll}\n  & rcs(dose, k)dose & rcs(dose, k)dose' & pred & ci.lb & ci.ub\\\\\n  & <dbl> & <dbl> & <dbl> & <dbl> & <dbl>\\\\\n\\hline\n\t1 & 0 & 0.00 & 1.00 & 1.00 & 1.00\\\\\n\t2 & 2 & 0.21 & 0.85 & 0.76 & 0.94\\\\\n\t3 & 4 & 1.88 & 0.80 & 0.71 & 0.90\\\\\n\\end{tabular}\n",
            "text/markdown": "\nA data.frame: 3 × 5\n\n| <!--/--> | rcs(dose, k)dose &lt;dbl&gt; | rcs(dose, k)dose' &lt;dbl&gt; | pred &lt;dbl&gt; | ci.lb &lt;dbl&gt; | ci.ub &lt;dbl&gt; |\n|---|---|---|---|---|---|\n| 1 | 0 | 0.00 | 1.00 | 1.00 | 1.00 |\n| 2 | 2 | 0.21 | 0.85 | 0.76 | 0.94 |\n| 3 | 4 | 1.88 | 0.80 | 0.71 | 0.90 |\n\n",
            "text/html": [
              "<table class=\"dataframe\">\n",
              "<caption>A data.frame: 3 × 5</caption>\n",
              "<thead>\n",
              "\t<tr><th></th><th scope=col>rcs(dose, k)dose</th><th scope=col>rcs(dose, k)dose'</th><th scope=col>pred</th><th scope=col>ci.lb</th><th scope=col>ci.ub</th></tr>\n",
              "\t<tr><th></th><th scope=col>&lt;dbl&gt;</th><th scope=col>&lt;dbl&gt;</th><th scope=col>&lt;dbl&gt;</th><th scope=col>&lt;dbl&gt;</th><th scope=col>&lt;dbl&gt;</th></tr>\n",
              "</thead>\n",
              "<tbody>\n",
              "\t<tr><th scope=row>1</th><td>0</td><td>0.00</td><td>1.00</td><td>1.00</td><td>1.00</td></tr>\n",
              "\t<tr><th scope=row>2</th><td>2</td><td>0.21</td><td>0.85</td><td>0.76</td><td>0.94</td></tr>\n",
              "\t<tr><th scope=row>3</th><td>4</td><td>1.88</td><td>0.80</td><td>0.71</td><td>0.90</td></tr>\n",
              "</tbody>\n",
              "</table>\n"
            ]
          },
          "metadata": {}
        },
        {
          "output_type": "display_data",
          "data": {
            "text/plain": [
              "  rcs(dose, k)dose rcs(dose, k)dose' pred ci.lb ci.ub\n",
              "1 0                0.00              1.00 1.00  1.00 \n",
              "2 2                0.21              0.79 0.73  0.86 \n",
              "3 4                1.88              0.74 0.67  0.81 "
            ],
            "text/latex": "A data.frame: 3 × 5\n\\begin{tabular}{r|lllll}\n  & rcs(dose, k)dose & rcs(dose, k)dose' & pred & ci.lb & ci.ub\\\\\n  & <dbl> & <dbl> & <dbl> & <dbl> & <dbl>\\\\\n\\hline\n\t1 & 0 & 0.00 & 1.00 & 1.00 & 1.00\\\\\n\t2 & 2 & 0.21 & 0.79 & 0.73 & 0.86\\\\\n\t3 & 4 & 1.88 & 0.74 & 0.67 & 0.81\\\\\n\\end{tabular}\n",
            "text/markdown": "\nA data.frame: 3 × 5\n\n| <!--/--> | rcs(dose, k)dose &lt;dbl&gt; | rcs(dose, k)dose' &lt;dbl&gt; | pred &lt;dbl&gt; | ci.lb &lt;dbl&gt; | ci.ub &lt;dbl&gt; |\n|---|---|---|---|---|---|\n| 1 | 0 | 0.00 | 1.00 | 1.00 | 1.00 |\n| 2 | 2 | 0.21 | 0.79 | 0.73 | 0.86 |\n| 3 | 4 | 1.88 | 0.74 | 0.67 | 0.81 |\n\n",
            "text/html": [
              "<table class=\"dataframe\">\n",
              "<caption>A data.frame: 3 × 5</caption>\n",
              "<thead>\n",
              "\t<tr><th></th><th scope=col>rcs(dose, k)dose</th><th scope=col>rcs(dose, k)dose'</th><th scope=col>pred</th><th scope=col>ci.lb</th><th scope=col>ci.ub</th></tr>\n",
              "\t<tr><th></th><th scope=col>&lt;dbl&gt;</th><th scope=col>&lt;dbl&gt;</th><th scope=col>&lt;dbl&gt;</th><th scope=col>&lt;dbl&gt;</th><th scope=col>&lt;dbl&gt;</th></tr>\n",
              "</thead>\n",
              "<tbody>\n",
              "\t<tr><th scope=row>1</th><td>0</td><td>0.00</td><td>1.00</td><td>1.00</td><td>1.00</td></tr>\n",
              "\t<tr><th scope=row>2</th><td>2</td><td>0.21</td><td>0.79</td><td>0.73</td><td>0.86</td></tr>\n",
              "\t<tr><th scope=row>3</th><td>4</td><td>1.88</td><td>0.74</td><td>0.67</td><td>0.81</td></tr>\n",
              "</tbody>\n",
              "</table>\n"
            ]
          },
          "metadata": {}
        }
      ]
    },
    {
      "cell_type": "code",
      "source": [
        "# comparison coefficients\n",
        "round(rbind(spl = c(coef(spl), vcov(spl)[-2]),\n",
        "            spl_exc = c(coef(spl_exc), vcov(spl_exc)[-2])), 5)"
      ],
      "metadata": {
        "colab": {
          "base_uri": "https://localhost:8080/",
          "height": 129
        },
        "id": "BrzxsBze-HDY",
        "outputId": "8f1fca07-29eb-4815-c21e-0156b8046037"
      },
      "execution_count": null,
      "outputs": [
        {
          "output_type": "display_data",
          "data": {
            "text/plain": [
              "        rcs(dose, k)dose rcs(dose, k)dose'                         \n",
              "spl     -0.09049         0.07367           0.00093 -0.00105 0.00127\n",
              "spl_exc -0.13153         0.11880           0.00055 -0.00059 0.00071"
            ],
            "text/latex": "A matrix: 2 × 5 of type dbl\n\\begin{tabular}{r|lllll}\n  & rcs(dose, k)dose & rcs(dose, k)dose' &  &  & \\\\\n\\hline\n\tspl & -0.09049 & 0.07367 & 0.00093 & -0.00105 & 0.00127\\\\\n\tspl\\_exc & -0.13153 & 0.11880 & 0.00055 & -0.00059 & 0.00071\\\\\n\\end{tabular}\n",
            "text/markdown": "\nA matrix: 2 × 5 of type dbl\n\n| <!--/--> | rcs(dose, k)dose | rcs(dose, k)dose' | <!----> | <!----> | <!----> |\n|---|---|---|---|---|---|\n| spl | -0.09049 | 0.07367 | 0.00093 | -0.00105 | 0.00127 |\n| spl_exc | -0.13153 | 0.11880 | 0.00055 | -0.00059 | 0.00071 |\n\n",
            "text/html": [
              "<table class=\"dataframe\">\n",
              "<caption>A matrix: 2 × 5 of type dbl</caption>\n",
              "<thead>\n",
              "\t<tr><th></th><th scope=col>rcs(dose, k)dose</th><th scope=col>rcs(dose, k)dose'</th><th scope=col></th><th scope=col></th><th scope=col></th></tr>\n",
              "</thead>\n",
              "<tbody>\n",
              "\t<tr><th scope=row>spl</th><td>-0.09049</td><td>0.07367</td><td>0.00093</td><td>-0.00105</td><td>0.00127</td></tr>\n",
              "\t<tr><th scope=row>spl_exc</th><td>-0.13153</td><td>0.11880</td><td>0.00055</td><td>-0.00059</td><td>0.00071</td></tr>\n",
              "</tbody>\n",
              "</table>\n"
            ]
          },
          "metadata": {}
        }
      ]
    },
    {
      "cell_type": "code",
      "source": [
        "# Figure 5\n",
        "pred_spl <- predict(spl, newd, expo = T)\n",
        "pred_spl_excl <- predict(spl_exc, newd, expo = T)\n",
        "ggplot(pred_spl, aes(newd$dose, pred, linetype = \"One-stage\")) + \n",
        "  geom_line() +\n",
        "  geom_line(data = pred_spl_excl, aes(linetype = \"Two-stage\")) +\n",
        "  scale_y_continuous(trans = \"log\", breaks = c(1, .75, .8, .85, .9, .95)) + \n",
        "  labs(x = \"Coffee consumption (cups/day)\", y = \"Relative risk\", linetype = \"Curve\") +\n",
        "  scale_linetype_manual(values = c(`One-stage` = \"solid\", `Two-stage` = \"dashed\")) +\n",
        "  theme_classic()"
      ],
      "metadata": {
        "colab": {
          "base_uri": "https://localhost:8080/",
          "height": 437
        },
        "id": "SQJ2Cq_l-K_L",
        "outputId": "3417b329-be6e-44fd-e2ac-dbdc01e4f200"
      },
      "execution_count": null,
      "outputs": [
        {
          "output_type": "display_data",
          "data": {
            "image/png": "[encoded data removed]",
            "text/plain": [
              "plot without title"
            ]
          },
          "metadata": {
            "image/png": {
              "width": 420,
              "height": 420
            }
          }
        }
      ]
    },
    {
      "cell_type": "code",
      "source": [
        "# alternative models (ML estimation for likelihood comparison)\n",
        "newd <- data.frame(dose = c(1, seq(0, 8, length.out = 100)))\n",
        "spl_ml <- dosresmeta(logrr ~ rcs(dose, k), id = id, type = type, cases = cases, n = n, \n",
        "                     se = se, data = coffee_mort_add, covariance = \"user\",  Slist = Slist,\n",
        "                     proc = \"1stage\", method = \"ml\")\n",
        "pred_spl_ml <- data.frame(dose = newd$dose, pred_spl = predict(spl_ml, newd, expo = T)$pred)"
      ],
      "metadata": {
        "id": "S8fEZ8XV-Pkg"
      },
      "execution_count": null,
      "outputs": []
    },
    {
      "cell_type": "code",
      "source": [
        "# spike at zero\n",
        "spl_spike <- dosresmeta(logrr ~ I(1*(dose < 1)) + I(rcs(dose, k)*(dose >= 1)), \n",
        "                        id = id, type = type,\n",
        "                        cases = cases, n = n, se = se, data = coffee_mort_add, \n",
        "                        covariance = \"user\", proc = \"1stage\", method = \"ml\",\n",
        "                        Slist = Slist, control = list(maxiter = 5000))\n",
        "summary(spl_spike)\n",
        "pred_spl_spike <- predict(spl_spike, newd, expo = T)"
      ],
      "metadata": {
        "colab": {
          "base_uri": "https://localhost:8080/",
          "height": 625
        },
        "id": "pwYuCPlA-SnY",
        "outputId": "f0a2ad2d-87c3-4a5b-a7d5-3f0da313ad2f"
      },
      "execution_count": null,
      "outputs": [
        {
          "output_type": "display_data",
          "data": {
            "text/plain": [
              "Call:  dosresmeta(formula = logrr ~ I(1 * (dose < 1)) + I(rcs(dose, \n",
              "    k) * (dose >= 1)), id = id, type = type, cases = cases, n = n, \n",
              "    data = coffee_mort_add, se = se, covariance = \"user\", method = \"ml\", \n",
              "    proc = \"1stage\", Slist = Slist, control = list(maxiter = 5000))\n",
              "\n",
              "One-stage random-effects meta-analysis\n",
              "Estimation method: ML\n",
              "\n",
              "Chi2 model: X2 = 18.8993 (df = 3), p-value = 0.0003\n",
              "\n",
              "Fixed-effects coefficients\n",
              "                                    Estimate  Std. Error        z  Pr(>|z|)\n",
              "I(1 * (dose < 1))                     0.0413      0.1238   0.3337    0.7386\n",
              "I(rcs(dose, k) * (dose >= 1))dose    -0.0620      0.0610  -1.0163    0.3095\n",
              "I(rcs(dose, k) * (dose >= 1))dose'    0.0484      0.0619   0.7810    0.4348\n",
              "                                    95%ci.lb  95%ci.ub   \n",
              "I(1 * (dose < 1))                    -0.2013    0.2839   \n",
              "I(rcs(dose, k) * (dose >= 1))dose    -0.1816    0.0576   \n",
              "I(rcs(dose, k) * (dose >= 1))dose'   -0.0730    0.1697   \n",
              "---\n",
              "Signif. codes:  0 ‘***’ 0.001 ‘**’ 0.01 ‘*’ 0.05 ‘.’ 0.1 ‘ ’ 1 \n",
              "\n",
              "Between-study random-effects (co)variance components\n",
              "                                    Std. Dev               Corr\n",
              "I(1 * (dose < 1))                     0.1449  I(1 * (dose < 1))\n",
              "I(rcs(dose, k) * (dose >= 1))dose     0.0181            0.37402\n",
              "I(rcs(dose, k) * (dose >= 1))dose'    0.0291           -0.03927\n",
              "                                                                     \n",
              "I(1 * (dose < 1))                   I(rcs(dose, k) * (dose >= 1))dose\n",
              "I(rcs(dose, k) * (dose >= 1))dose                                    \n",
              "I(rcs(dose, k) * (dose >= 1))dose'                           -0.94137\n",
              "\n",
              "12 studies, 36 values, 3 fixed and 6 random-effects parameters\n",
              "  logLik       AIC       BIC  \n",
              " 23.2135  -28.4269  -14.1752  \n"
            ]
          },
          "metadata": {}
        }
      ]
    },
    {
      "cell_type": "code",
      "source": [
        "# categorical\n",
        "k2 <- c(0, 1, 3, 5, 7, 10)\n",
        "categ <- dosresmeta(logrr ~ relevel(cut(dose, breaks = k2, include.lowest = T, right = F), 2), \n",
        "                    id = id, type = type,\n",
        "                    cases = cases, n = n, se = se, data = coffee_mort_add, \n",
        "                    covariance = \"user\", proc = \"1stage\", method = \"reml\",\n",
        "                    Slist = Slist, control = list(maxiter = 5000))\n",
        "summary(categ)\n",
        "pred_categ <- predict(categ, newd, expo = T)"
      ],
      "metadata": {
        "colab": {
          "base_uri": "https://localhost:8080/",
          "height": 1000
        },
        "id": "AONswd17-W5w",
        "outputId": "666ded36-a08c-4f0a-8a0f-0c9c46592b6c"
      },
      "execution_count": null,
      "outputs": [
        {
          "output_type": "display_data",
          "data": {
            "text/plain": [
              "Call:  dosresmeta(formula = logrr ~ relevel(cut(dose, breaks = k2, include.lowest = T, \n",
              "    right = F), 2), id = id, type = type, cases = cases, n = n, \n",
              "    data = coffee_mort_add, se = se, covariance = \"user\", method = \"reml\", \n",
              "    proc = \"1stage\", Slist = Slist, control = list(maxiter = 5000))\n",
              "\n",
              "One-stage random-effects meta-analysis\n",
              "Estimation method: REML\n",
              "\n",
              "Chi2 model: X2 = 25.4558 (df = 4), p-value = 0.0000\n",
              "\n",
              "Fixed-effects coefficients\n",
              "                                                                         Estimate\n",
              "relevel(cut(dose, breaks = k2, include.lowest = T, right = F), 2)[0,1)     0.1451\n",
              "relevel(cut(dose, breaks = k2, include.lowest = T, right = F), 2)[3,5)    -0.0657\n",
              "relevel(cut(dose, breaks = k2, include.lowest = T, right = F), 2)[5,7)    -0.0415\n",
              "relevel(cut(dose, breaks = k2, include.lowest = T, right = F), 2)[7,10]   -0.1272\n",
              "                                                                         Std. Error\n",
              "relevel(cut(dose, breaks = k2, include.lowest = T, right = F), 2)[0,1)       0.0539\n",
              "relevel(cut(dose, breaks = k2, include.lowest = T, right = F), 2)[3,5)       0.0360\n",
              "relevel(cut(dose, breaks = k2, include.lowest = T, right = F), 2)[5,7)       0.0390\n",
              "relevel(cut(dose, breaks = k2, include.lowest = T, right = F), 2)[7,10]      0.0726\n",
              "                                                                               z\n",
              "relevel(cut(dose, breaks = k2, include.lowest = T, right = F), 2)[0,1)    2.6912\n",
              "relevel(cut(dose, breaks = k2, include.lowest = T, right = F), 2)[3,5)   -1.8254\n",
              "relevel(cut(dose, breaks = k2, include.lowest = T, right = F), 2)[5,7)   -1.0643\n",
              "relevel(cut(dose, breaks = k2, include.lowest = T, right = F), 2)[7,10]  -1.7515\n",
              "                                                                         Pr(>|z|)\n",
              "relevel(cut(dose, breaks = k2, include.lowest = T, right = F), 2)[0,1)     0.0071\n",
              "relevel(cut(dose, breaks = k2, include.lowest = T, right = F), 2)[3,5)     0.0679\n",
              "relevel(cut(dose, breaks = k2, include.lowest = T, right = F), 2)[5,7)     0.2872\n",
              "relevel(cut(dose, breaks = k2, include.lowest = T, right = F), 2)[7,10]    0.0799\n",
              "                                                                         95%ci.lb\n",
              "relevel(cut(dose, breaks = k2, include.lowest = T, right = F), 2)[0,1)     0.0394\n",
              "relevel(cut(dose, breaks = k2, include.lowest = T, right = F), 2)[3,5)    -0.1361\n",
              "relevel(cut(dose, breaks = k2, include.lowest = T, right = F), 2)[5,7)    -0.1179\n",
              "relevel(cut(dose, breaks = k2, include.lowest = T, right = F), 2)[7,10]   -0.2696\n",
              "                                                                         95%ci.ub\n",
              "relevel(cut(dose, breaks = k2, include.lowest = T, right = F), 2)[0,1)     0.2508\n",
              "relevel(cut(dose, breaks = k2, include.lowest = T, right = F), 2)[3,5)     0.0048\n",
              "relevel(cut(dose, breaks = k2, include.lowest = T, right = F), 2)[5,7)     0.0349\n",
              "relevel(cut(dose, breaks = k2, include.lowest = T, right = F), 2)[7,10]    0.0151\n",
              "                                                                           \n",
              "relevel(cut(dose, breaks = k2, include.lowest = T, right = F), 2)[0,1)   **\n",
              "relevel(cut(dose, breaks = k2, include.lowest = T, right = F), 2)[3,5)    .\n",
              "relevel(cut(dose, breaks = k2, include.lowest = T, right = F), 2)[5,7)     \n",
              "relevel(cut(dose, breaks = k2, include.lowest = T, right = F), 2)[7,10]   .\n",
              "---\n",
              "Signif. codes:  0 ‘***’ 0.001 ‘**’ 0.01 ‘*’ 0.05 ‘.’ 0.1 ‘ ’ 1 \n",
              "\n",
              "Between-study random-effects (co)variance components\n",
              "                                                                         Std. Dev\n",
              "relevel(cut(dose, breaks = k2, include.lowest = T, right = F), 2)[1,3)     0.0632\n",
              "relevel(cut(dose, breaks = k2, include.lowest = T, right = F), 2)[0,1)     0.1029\n",
              "relevel(cut(dose, breaks = k2, include.lowest = T, right = F), 2)[3,5)     0.0157\n",
              "relevel(cut(dose, breaks = k2, include.lowest = T, right = F), 2)[5,7)     0.0465\n",
              "relevel(cut(dose, breaks = k2, include.lowest = T, right = F), 2)[7,10]    0.0669\n",
              "                                                                                                                                           Corr\n",
              "relevel(cut(dose, breaks = k2, include.lowest = T, right = F), 2)[1,3)   relevel(cut(dose, breaks = k2, include.lowest = T, right = F), 2)[1,3)\n",
              "relevel(cut(dose, breaks = k2, include.lowest = T, right = F), 2)[0,1)                                                                 -0.39120\n",
              "relevel(cut(dose, breaks = k2, include.lowest = T, right = F), 2)[3,5)                                                                  0.65666\n",
              "relevel(cut(dose, breaks = k2, include.lowest = T, right = F), 2)[5,7)                                                                  0.71430\n",
              "relevel(cut(dose, breaks = k2, include.lowest = T, right = F), 2)[7,10]                                                                -0.89047\n",
              "                                                                                                                                               \n",
              "relevel(cut(dose, breaks = k2, include.lowest = T, right = F), 2)[1,3)   relevel(cut(dose, breaks = k2, include.lowest = T, right = F), 2)[0,1)\n",
              "relevel(cut(dose, breaks = k2, include.lowest = T, right = F), 2)[0,1)                                                                         \n",
              "relevel(cut(dose, breaks = k2, include.lowest = T, right = F), 2)[3,5)                                                                  0.43717\n",
              "relevel(cut(dose, breaks = k2, include.lowest = T, right = F), 2)[5,7)                                                                 -0.92348\n",
              "relevel(cut(dose, breaks = k2, include.lowest = T, right = F), 2)[7,10]                                                                -0.07036\n",
              "                                                                                                                                               \n",
              "relevel(cut(dose, breaks = k2, include.lowest = T, right = F), 2)[1,3)   relevel(cut(dose, breaks = k2, include.lowest = T, right = F), 2)[3,5)\n",
              "relevel(cut(dose, breaks = k2, include.lowest = T, right = F), 2)[0,1)                                                                         \n",
              "relevel(cut(dose, breaks = k2, include.lowest = T, right = F), 2)[3,5)                                                                         \n",
              "relevel(cut(dose, breaks = k2, include.lowest = T, right = F), 2)[5,7)                                                                 -0.05868\n",
              "relevel(cut(dose, breaks = k2, include.lowest = T, right = F), 2)[7,10]                                                                -0.92780\n",
              "                                                                                                                                               \n",
              "relevel(cut(dose, breaks = k2, include.lowest = T, right = F), 2)[1,3)   relevel(cut(dose, breaks = k2, include.lowest = T, right = F), 2)[5,7)\n",
              "relevel(cut(dose, breaks = k2, include.lowest = T, right = F), 2)[0,1)                                                                         \n",
              "relevel(cut(dose, breaks = k2, include.lowest = T, right = F), 2)[3,5)                                                                         \n",
              "relevel(cut(dose, breaks = k2, include.lowest = T, right = F), 2)[5,7)                                                                         \n",
              "relevel(cut(dose, breaks = k2, include.lowest = T, right = F), 2)[7,10]                                                                -0.31762\n",
              "\n",
              "12 studies, 36 values, 4 fixed and 15 random-effects parameters\n",
              " logLik      AIC      BIC  \n",
              "15.2477   7.5047  35.3537  \n"
            ]
          },
          "metadata": {}
        }
      ]
    },
    {
      "cell_type": "code",
      "source": [
        "# Figure 9\n",
        "pred_modi <- cbind(pred_spl_ml, \n",
        "                   pred_spl_spike = pred_spl_spike$pred,\n",
        "                   pred_categ = pred_categ$pred)\n",
        "\n",
        "p <- ggplot(pred_modi, aes(dose, pred_spl, linetype = \"Spline\")) + \n",
        "  geom_line() +\n",
        "  geom_line(data = subset(pred_modi, dose < 1), aes(y = pred_spl_spike, linetype = \"Spike at 0\")) +\n",
        "  geom_line(data = subset(pred_modi, dose >= 1), aes(y = pred_spl_spike, linetype = \"Spike at 0\")) +\n",
        "  scale_x_continuous(breaks = 0:8) +\n",
        "  scale_y_continuous(trans = \"log\", breaks = c(.8, .85, .9, .95, 1, 1.05, 1.1, 1.15)) +\n",
        "  labs(x = \"Coffee consumption (cups/day)\", y = \"Relative risk\", linetype = \"Model\") +\n",
        "  scale_linetype_manual(values = c(`Spline` = \"solid\", `Spike at 0` = \"dashed\",\n",
        "                                   `Categories` = \"longdash\")) +\n",
        "  theme_classic()\n",
        "for (i in seq_along(k2[-1])){\n",
        "  p <- p + geom_line(data = subset(pred_modi, dose >= k2[i] & dose < k2[i+1]), \n",
        "                     aes(y = pred_categ, linetype = \"Categories\"))\n",
        "}\n",
        "p"
      ],
      "metadata": {
        "colab": {
          "base_uri": "https://localhost:8080/",
          "height": 437
        },
        "id": "YdhsnZEb-dDJ",
        "outputId": "297e75f5-b631-4575-85bb-ee8f4571b645"
      },
      "execution_count": null,
      "outputs": [
        {
          "output_type": "display_data",
          "data": {
            "image/png": "[encoded data removed]",
            "text/plain": [
              "plot without title"
            ]
          },
          "metadata": {
            "image/png": {
              "width": 420,
              "height": 420
            }
          }
        }
      ]
    },
    {
      "cell_type": "code",
      "source": [
        "# comparison AIC\n",
        "lapply(list(`spline` = spl_ml, `Categories` = categ, `Spike at 0` = spl_spike), AIC)"
      ],
      "metadata": {
        "colab": {
          "base_uri": "https://localhost:8080/",
          "height": 149
        },
        "id": "gTg9B1Yj-efR",
        "outputId": "c40e86bd-98b4-4334-ec68-60fc1cf3a43e"
      },
      "execution_count": null,
      "outputs": [
        {
          "output_type": "display_data",
          "data": {
            "text/plain": [
              "$spline\n",
              "[1] -36.98965\n",
              "\n",
              "$Categories\n",
              "[1] 7.504696\n",
              "\n",
              "$`Spike at 0`\n",
              "[1] -28.42692\n"
            ],
            "text/latex": "\\begin{description}\n\\item[\\$spline] -36.9896480477683\n\\item[\\$Categories] 7.5046961419948\n\\item[\\$`Spike at 0`] -28.4269180763531\n\\end{description}\n",
            "text/markdown": "$spline\n:   -36.9896480477683\n$Categories\n:   7.5046961419948\n$`Spike at 0`\n:   -28.4269180763531\n\n\n",
            "text/html": [
              "<dl>\n",
              "\t<dt>$spline</dt>\n",
              "\t\t<dd>-36.9896480477683</dd>\n",
              "\t<dt>$Categories</dt>\n",
              "\t\t<dd>7.5046961419948</dd>\n",
              "\t<dt>$`Spike at 0`</dt>\n",
              "\t\t<dd>-28.4269180763531</dd>\n",
              "</dl>\n"
            ]
          },
          "metadata": {}
        }
      ]
    },
    {
      "cell_type": "code",
      "source": [
        "# Meta-regression\n",
        "spl_reg <- dosresmeta(logrr ~ rcs(dose, k), id = id, type = type, cases = cases, \n",
        "                      n = n, se = se, data = coffee_mort_add, covariance = \"user\", \n",
        "                      proc = \"1stage\", Slist = Slist, mod = ~ gender, method = \"reml\")\n",
        "summary(spl_reg)\n",
        "lmtest::lrtest(spl_reg, spl_ml)"
      ],
      "metadata": {
        "colab": {
          "base_uri": "https://localhost:8080/",
          "height": 786
        },
        "id": "LNtNMeuW-hS5",
        "outputId": "bc7774f5-8a3f-4e66-9ff2-b55be224bd7d"
      },
      "execution_count": null,
      "outputs": [
        {
          "output_type": "display_data",
          "data": {
            "text/plain": [
              "Call:  dosresmeta(formula = logrr ~ rcs(dose, k), id = id, type = type, \n",
              "    cases = cases, n = n, data = coffee_mort_add, mod = ~gender, \n",
              "    se = se, covariance = \"user\", method = \"reml\", proc = \"1stage\", \n",
              "    Slist = Slist)\n",
              "\n",
              "One-stage random-effects meta-regression\n",
              "Estimation method: REML\n",
              "\n",
              "Chi2 model: X2 = 20.0650 (df = 6), p-value = 0.0027\n",
              "\n",
              "Fixed-effects coefficients\n",
              "                             Estimate  Std. Error        z  Pr(>|z|)  95%ci.lb\n",
              "rcs(dose, k)dose              -0.0848      0.0604  -1.4045    0.1602   -0.2031\n",
              "rcs(dose, k)dose'              0.0252      0.0650   0.3880    0.6980   -0.1021\n",
              "rcs(dose, k)dose:genderM      -0.0397      0.0744  -0.5338    0.5935   -0.1857\n",
              "rcs(dose, k)dose':genderM      0.0964      0.0779   1.2375    0.2159   -0.0563\n",
              "rcs(dose, k)dose:genderM/F     0.0462      0.0990   0.4666    0.6408   -0.1478\n",
              "rcs(dose, k)dose':genderM/F    0.0019      0.1026   0.0189    0.9849   -0.1991\n",
              "                             95%ci.ub   \n",
              "rcs(dose, k)dose               0.0335   \n",
              "rcs(dose, k)dose'              0.1525   \n",
              "rcs(dose, k)dose:genderM       0.1062   \n",
              "rcs(dose, k)dose':genderM      0.2490   \n",
              "rcs(dose, k)dose:genderM/F     0.2402   \n",
              "rcs(dose, k)dose':genderM/F    0.2030   \n",
              "---\n",
              "Signif. codes:  0 ‘***’ 0.001 ‘**’ 0.01 ‘*’ 0.05 ‘.’ 0.1 ‘ ’ 1 \n",
              "\n",
              "Between-study random-effects (co)variance components\n",
              "                   Std. Dev              Corr\n",
              "rcs(dose, k)dose     0.0884  rcs(dose, k)dose\n",
              "rcs(dose, k)dose'    0.0816                -1\n",
              "\n",
              "12 studies, 36 values, 6 fixed and 3 random-effects parameters\n",
              " logLik      AIC      BIC  \n",
              "10.7642  -3.5284   9.0823  \n"
            ]
          },
          "metadata": {}
        },
        {
          "output_type": "display_data",
          "data": {
            "text/plain": [
              "  #Df LogLik   Df Chisq    Pr(>Chisq)  \n",
              "1 9   10.76422 NA       NA           NA\n",
              "2 5   23.49482 -4 25.46121 4.063111e-05"
            ],
            "text/latex": "A anova: 2 × 5\n\\begin{tabular}{r|lllll}\n  & \\#Df & LogLik & Df & Chisq & Pr(>Chisq)\\\\\n  & <dbl> & <dbl> & <dbl> & <dbl> & <dbl>\\\\\n\\hline\n\t1 & 9 & 10.76422 & NA &       NA &           NA\\\\\n\t2 & 5 & 23.49482 & -4 & 25.46121 & 4.063111e-05\\\\\n\\end{tabular}\n",
            "text/markdown": "\nA anova: 2 × 5\n\n| <!--/--> | #Df &lt;dbl&gt; | LogLik &lt;dbl&gt; | Df &lt;dbl&gt; | Chisq &lt;dbl&gt; | Pr(&gt;Chisq) &lt;dbl&gt; |\n|---|---|---|---|---|---|\n| 1 | 9 | 10.76422 | NA |       NA |           NA |\n| 2 | 5 | 23.49482 | -4 | 25.46121 | 4.063111e-05 |\n\n",
            "text/html": [
              "<table class=\"dataframe\">\n",
              "<caption>A anova: 2 × 5</caption>\n",
              "<thead>\n",
              "\t<tr><th></th><th scope=col>#Df</th><th scope=col>LogLik</th><th scope=col>Df</th><th scope=col>Chisq</th><th scope=col>Pr(&gt;Chisq)</th></tr>\n",
              "\t<tr><th></th><th scope=col>&lt;dbl&gt;</th><th scope=col>&lt;dbl&gt;</th><th scope=col>&lt;dbl&gt;</th><th scope=col>&lt;dbl&gt;</th><th scope=col>&lt;dbl&gt;</th></tr>\n",
              "</thead>\n",
              "<tbody>\n",
              "\t<tr><th scope=row>1</th><td>9</td><td>10.76422</td><td>NA</td><td>      NA</td><td>          NA</td></tr>\n",
              "\t<tr><th scope=row>2</th><td>5</td><td>23.49482</td><td>-4</td><td>25.46121</td><td>4.063111e-05</td></tr>\n",
              "</tbody>\n",
              "</table>\n"
            ]
          },
          "metadata": {}
        }
      ]
    },
    {
      "cell_type": "code",
      "source": [
        "# vpc plot\n",
        "coffee_vpc <- coffee_mort_add %>%\n",
        "  filter(se != 0) %>%\n",
        "  mutate(\n",
        "    `Spline` = vpc(spl),\n",
        "    `Spline meta-regression` = vpc(spl_reg)\n",
        "  ) %>%\n",
        "  gather(curve, vpc, Spline:`Spline meta-regression`)"
      ],
      "metadata": {
        "id": "_eH-86jw-kkY"
      },
      "execution_count": null,
      "outputs": []
    },
    {
      "cell_type": "code",
      "source": [
        "# Figure 6\n",
        "ggplot(coffee_vpc, aes(dose, vpc, group = curve)) +\n",
        "  geom_point(aes(shape = curve)) +\n",
        "  geom_smooth(aes(linetype = curve), method = \"loess\", se = F, col = \"black\") +\n",
        "  labs(y = \"VPC\", x = \"Coffee consumption (cups/day)\", shape = \"Curve\", linetype = \"Curve\") + \n",
        "  theme_classic() + theme(legend.position = \"top\")"
      ],
      "metadata": {
        "colab": {
          "base_uri": "https://localhost:8080/",
          "height": 472
        },
        "id": "qyCBHnUH-m2T",
        "outputId": "aa5b0c75-20c9-4a01-a33c-e5d885f952a2"
      },
      "execution_count": null,
      "outputs": [
        {
          "output_type": "stream",
          "name": "stderr",
          "text": [
            "`geom_smooth()` using formula 'y ~ x'\n",
            "\n"
          ]
        },
        {
          "output_type": "display_data",
          "data": {
            "image/png": "[encoded data removed]",
            "text/plain": [
              "plot without title"
            ]
          },
          "metadata": {
            "image/png": {
              "width": 420,
              "height": 420
            }
          }
        }
      ]
    }
  ]
}